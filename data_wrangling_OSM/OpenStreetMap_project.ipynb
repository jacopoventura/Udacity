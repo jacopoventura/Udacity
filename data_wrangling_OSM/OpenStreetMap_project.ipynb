{
 "cells": [
  {
   "cell_type": "markdown",
   "metadata": {},
   "source": [
    "# OpenStreetMap Case Study: Mestre Venice\n",
    "\n",
    "\n",
    "In this project, I apply data munging techniques like assessing data quality for validity, accuracy, completeness, consistency and uniformity, to clean the OpenStreetMap data for my hometown [Venice Mestre, Italy](https://www.openstreetmap.org/node/29997772#map=10/45.4953/12.2415)\n",
    "\n",
    "The following image is a satellite picture of the Venice area taken from Google maps. [Mestre](https://en.wikipedia.org/wiki/Mestre) is part of the city of Venice and it is denoted with the red flag A. \n",
    "![alt text](https://7crooks.files.wordpress.com/2011/04/screen-shot-2011-04-20-at-11-23-56-am.png \"\")\n",
    "\n",
    "The dataset is about **112 MB** and is used entirely in this analysis. \n",
    "\n",
    "In this project, the following information of the dataset are audited:\n",
    "\n",
    "1. street names \n",
    "2. postal code between 30121 and 30176\n",
    "3. names of city suburbs\n",
    "4. province information\n",
    "5. telephone number in the format +39 XXX XXXXXX\n",
    "\n",
    "\n",
    "## PART 1: find errors in the dataset and define functions to correct them\n",
    "\n",
    "In this part of the project, we check the OSM dataset and we check the fields listed in the introduction to find errors. Given the list of errors, functions that correct these error are created and tested.\n",
    "\n",
    "### Street names\n",
    "\n",
    "The XML file of Mestre OpenStreetMap is imported using python's cElementTree. We access the street name using the tags of the XML file. Using Python's regular expression library, we extract street names like raod, avenue, etc, and we compare this name with a list of correct names. If the name is not in the list, we save it in a dictionary of wrong names where the key is the wrong street name and value the list of full wrong names. We create a new dictionary that maps the wrong names (key) to the correct name (value). Using this map, we correct the street names.\n",
    "\n",
    "In this anaylsis, numerous typos error were found (for example, we found Dorsorduro instead of Dorsoduro). Moreover, several names without first capital letter were found. We would like to keep the format with capital letter. "
   ]
  },
  {
   "cell_type": "code",
   "execution_count": 1,
   "metadata": {
    "collapsed": true
   },
   "outputs": [],
   "source": [
    "# File path\n",
    "OSMFILE = \"C:/Users/jacopo/Desktop/Deep Learning/Udacity/Projects/DataWrangling/Final project/mestre.osm\""
   ]
  },
  {
   "cell_type": "code",
   "execution_count": 2,
   "metadata": {},
   "outputs": [
    {
     "name": "stdout",
     "output_type": "stream",
     "text": [
      "Correction of street names (first 5):\n",
      "\n",
      "Sestiere Dorsoduro-->Dorsoduro\n",
      "Sestiere Cannaregio-->Cannaregio\n",
      "Dorsoduro, San Trovaso-->Dorsoduro\n",
      "Gallion-->Calle Gallion\n",
      "Stazione Santa Lucia-->Cannaregio\n"
     ]
    }
   ],
   "source": [
    "from audit_street import audit_street, correct_street_name, mapping_street\n",
    "\n",
    "# Run codes\n",
    "st_types = audit_street(OSMFILE)\n",
    "print('Correction of street names (first 5):\\n')  \n",
    "counter = 0\n",
    "for st_type, ways in st_types.items():\n",
    "    \n",
    "    for name in ways:\n",
    "        better_name = correct_street_name(name, mapping_street)\n",
    "        if counter <5:  \n",
    "            print(name + '-->' + better_name)\n",
    "            counter +=1"
   ]
  },
  {
   "cell_type": "markdown",
   "metadata": {},
   "source": [
    "### Postal code\n",
    "\n",
    "We check if the postal code lies between 30121 and 30176. We found that two tags contain the city name (Venice) or a street name (Ponte dei Pugni), whereas several postal codes were outside the expected range. We found that the map of Mestre contains several location outside the city!"
   ]
  },
  {
   "cell_type": "code",
   "execution_count": 3,
   "metadata": {},
   "outputs": [
    {
     "name": "stdout",
     "output_type": "stream",
     "text": [
      "Postal codes outside Mestre area (first 5):\n",
      "30100\n",
      "30034\n",
      "30020\n",
      "30020\n",
      "30030\n",
      "\n",
      "Correction of postal codes:\n",
      "PontedeiPugni-->30123\n",
      "Venice30123-->30123\n"
     ]
    }
   ],
   "source": [
    "from audit_postal import audit_postcode, correct_postal_code, mapping_postal_code\n",
    "\n",
    "# Run codes\n",
    "wrong_postal_codes = audit_postcode(OSMFILE)\n",
    "\n",
    "print('\\nCorrection of postal codes:')  \n",
    "for code_type, ways in wrong_postal_codes.items():\n",
    "    for name in ways:\n",
    "        new_postal_code = correct_postal_code(name, mapping_postal_code)\n",
    "        print(name + '-->' + new_postal_code)\n",
    "        "
   ]
  },
  {
   "cell_type": "markdown",
   "metadata": {},
   "source": [
    "### Names of city suburbs\n",
    "\n",
    "Here we check if the names of suburbs were correct. Also in this case, we found several locations outside the city. Moreover, we correct missplelled names as in part 1. In two cases, we found the postal code instead of the suburb name (it was corrected by inserting the suburb name)."
   ]
  },
  {
   "cell_type": "code",
   "execution_count": 4,
   "metadata": {
    "scrolled": false
   },
   "outputs": [
    {
     "name": "stdout",
     "output_type": "stream",
     "text": [
      "Correction of suburb names (first 5):\n",
      "\n",
      "Venice-->Venezia\n",
      "Marghera VE-->Marghera\n",
      "30173-->Tessera\n",
      "3073-->Tessera\n",
      "Venezia Mestre-->Mestre\n"
     ]
    }
   ],
   "source": [
    "from audit_suburb import audit_city, mapping_city, correct_city_sub\n",
    "\n",
    "# Run codes\n",
    "city_sub_wrong = audit_city(OSMFILE)\n",
    "counter = 0\n",
    "print('Correction of suburb names (first 5):\\n')  \n",
    "for code_type, ways in city_sub_wrong.items():\n",
    "    for name in ways:\n",
    "        new_suburb = correct_city_sub(name, mapping_city)\n",
    "        if counter < 5:\n",
    "            print(name + '-->' + new_suburb)\n",
    "            counter+=1\n"
   ]
  },
  {
   "cell_type": "markdown",
   "metadata": {},
   "source": [
    "### Province information\n",
    "\n",
    "We make sure that province is \"Venezia\" in every node. The province name was changed from \"VE\" to \"Venezia\"."
   ]
  },
  {
   "cell_type": "code",
   "execution_count": 5,
   "metadata": {
    "collapsed": true
   },
   "outputs": [],
   "source": [
    "from audit_province import audit_prov\n",
    "\n",
    "audit_prov(OSMFILE)"
   ]
  },
  {
   "cell_type": "markdown",
   "metadata": {},
   "source": [
    "### Telephone number\n",
    "\n",
    "We check telephone numbers. Using the same approach as part 1, we ensures that all the phone numbers have the same format +39 XXX XXXXX."
   ]
  },
  {
   "cell_type": "code",
   "execution_count": 6,
   "metadata": {
    "scrolled": false
   },
   "outputs": [
    {
     "name": "stdout",
     "output_type": "stream",
     "text": [
      "Corrected phone numbers (first 5):\n",
      "\n",
      "390412776142-->+39 041 2776142\n",
      "+39 0412749227-->+39 041 2749227\n",
      "+39 0415341310-->+39 041 5341310\n",
      "+39 041 52 87 409-->+39 041 5287409\n",
      "+390415470160-->+39 041 5470160\n"
     ]
    }
   ],
   "source": [
    "from audit_phone_number import audit_phone\n",
    "\n",
    "audit_phone(OSMFILE)"
   ]
  },
  {
   "cell_type": "markdown",
   "metadata": {},
   "source": [
    "## PART 2: correct data and create a RDBMS database\n",
    "\n",
    "The OSM dataset is now parsed and saved as a set of dictionaries, being \"node\" and \"way\".\n",
    "Each element of the OSM XML file is analyzed and corrected using the functions defined in step 1. The document is transformed to tabular format using python's dictionaries and saved into .csv files. These csv files can then easily be imported to a SQL database as tables.\n",
    "This process consists of the following steps:\n",
    "- iteratively step through each top level element in the OSM XML \n",
    "- analyze each node by correcting wrong values and saving them into dictionaries\n",
    "- use a schema and validation library to ensure the transformed data is in the correct format\n",
    "- write each data structure to the appropriate .csv files\n",
    "\n",
    "The script *process_map()* defined in *create_RDBMS.py* corrects the errors in the OSM dataset and creates the following files:\n",
    "- nodes.csv\n",
    "- nodes_tags.csv\n",
    "- ways.csv\n",
    "- ways_nodes.csv\n",
    "- ways_tags.csv\n",
    "\n",
    "Using these files, a new relational database called **mestre.db** is created using SQLite3.\n"
   ]
  },
  {
   "cell_type": "code",
   "execution_count": null,
   "metadata": {
    "collapsed": true
   },
   "outputs": [],
   "source": [
    "from create_RDBMS import process_map\n",
    "\n",
    "process_map(OSMFILE, validate=True)"
   ]
  },
  {
   "cell_type": "markdown",
   "metadata": {
    "scrolled": false
   },
   "source": [
    "## PART 3: Statistics of Mestre's OSM database (corrected)\n",
    "\n",
    "The RDBMS database previously created is analyzed using SQL. The original OSM file is about 113 MB, whereas the size of the RDBMS is 87 MB. "
   ]
  },
  {
   "cell_type": "code",
   "execution_count": 7,
   "metadata": {
    "collapsed": true
   },
   "outputs": [],
   "source": [
    "# import SQLIte3\n",
    "import sqlite3\n",
    "from query_db import query_db\n",
    "\n",
    "# connect to the database and create cursor for querying\n",
    "conn = sqlite3.connect('mestre.db')\n",
    "cursor=conn.cursor()\n"
   ]
  },
  {
   "cell_type": "markdown",
   "metadata": {},
   "source": [
    "Check **number of nodes and ways** in the map:"
   ]
  },
  {
   "cell_type": "code",
   "execution_count": 8,
   "metadata": {},
   "outputs": [
    {
     "name": "stdout",
     "output_type": "stream",
     "text": [
      "Nodes: \n",
      "528507\n",
      "\n",
      "Ways: \n",
      "81700\n"
     ]
    }
   ],
   "source": [
    "print('Nodes: ')\n",
    "QUERY = \"SELECT COUNT(*) FROM Nodes\"\n",
    "result = query_db(QUERY,cursor)\n",
    "\n",
    "print('\\nWays: ')\n",
    "QUERY = \"SELECT COUNT(*) FROM Ways\"\n",
    "query_db(QUERY,cursor)"
   ]
  },
  {
   "cell_type": "markdown",
   "metadata": {},
   "source": [
    "Check **number of users** that contributed to the OSM database."
   ]
  },
  {
   "cell_type": "code",
   "execution_count": 9,
   "metadata": {},
   "outputs": [
    {
     "name": "stdout",
     "output_type": "stream",
     "text": [
      "Top 3 users that most contributed to ways: \n",
      "DarkSwan_Import: 22837\n",
      "bellazambo: 15054\n",
      "Arlas: 13230\n",
      "\n",
      "Top 3 users that most contributed to nodes: \n",
      "DarkSwan_Import: 130932\n",
      "bellazambo: 98640\n",
      "Arlas: 69366\n",
      "\n",
      "Top 3 users that most contributed to OSM database: \n",
      "DarkSwan_Import: 153769\n",
      "bellazambo: 113694\n",
      "Arlas: 82596\n"
     ]
    }
   ],
   "source": [
    "print('Top 3 users that most contributed to ways: ')\n",
    "QUERY = \"SELECT user, COUNT(*) as total FROM Ways GROUP BY user ORDER BY total DESC LIMIT 3;\"\n",
    "result = query_db(QUERY,cursor)\n",
    "\n",
    "print('\\nTop 3 users that most contributed to nodes: ')\n",
    "QUERY = \"SELECT user, COUNT(*) as total FROM Nodes GROUP BY user ORDER BY total DESC LIMIT 3;\"\n",
    "result = query_db(QUERY,cursor)\n",
    "\n",
    "print('\\nTop 3 users that most contributed to OSM database: ')\n",
    "QUERY = \"SELECT way_node.user, COUNT(*) as total FROM (SELECT user FROM Ways UNION ALL SELECT user FROM Nodes) way_node GROUP BY way_node.user ORDER BY total DESC LIMIT 3;\"\n",
    "result = query_db(QUERY,cursor)"
   ]
  },
  {
   "cell_type": "markdown",
   "metadata": {},
   "source": [
    "The most active user is **DarkSwan_Import**, who created 28% of the ways, 25% of the nodes and 25% of the map. The top 3 users are **DarkSwan_Import, bellazambo**, and **Arlas**, who created 63% of the ways, 57% of the nodes and 58% of the OSM data.\n",
    "\n",
    "**Analyze restaurants** in Mestre's OSM database."
   ]
  },
  {
   "cell_type": "code",
   "execution_count": 10,
   "metadata": {},
   "outputs": [
    {
     "name": "stdout",
     "output_type": "stream",
     "text": [
      "Number of restaurants in Mestre Venezia OSM:\n",
      "236\n",
      "\n",
      "Most popular cuisines:\n",
      "italian: 33\n",
      "pizza: 22\n",
      "regional: 12\n",
      "italian;pizza: 5\n",
      "chinese: 3\n",
      "\n",
      "Number of restaurants having phone number specified:\n",
      "43\n",
      "\n",
      "Total number of cusine specification:\n",
      "129\n"
     ]
    }
   ],
   "source": [
    "print('Number of restaurants in Mestre Venezia OSM:')\n",
    "QUERY = \"SELECT COUNT(*) FROM Nodes_tags WHERE value LIKE '%restaurant%';\"\n",
    "query_db(QUERY,cursor)\n",
    "\n",
    "print('\\nMost popular cuisines:')\n",
    "QUERY = \"SELECT Nodes_tags.value, COUNT(*) AS tot FROM Nodes_tags WHERE Nodes_tags.id IN (SELECT DISTINCT(id) FROM Nodes_tags WHERE value LIKE '%restaurant%') AND Nodes_tags.key LIKE '%cuisine%' GROUP BY Nodes_tags.value ORDER BY tot DESC LIMIT 5;\"\n",
    "query_db(QUERY,cursor)\n",
    "\n",
    "print('\\nNumber of restaurants having phone number specified:')\n",
    "QUERY = \"SELECT COUNT(*) AS tot FROM Nodes_tags WHERE Nodes_tags.id IN (SELECT DISTINCT(id) FROM Nodes_tags WHERE value LIKE '%restaurant%') AND Nodes_tags.key LIKE '%phone%';\"\n",
    "query_db(QUERY,cursor)\n",
    "\n",
    "\n",
    "print('\\nTotal number of cusine specification:')\n",
    "QUERY = \"SELECT COUNT(*) FROM Nodes_tags WHERE key LIKE '%cuisine%';\"\n",
    "query_db(QUERY,cursor)"
   ]
  },
  {
   "cell_type": "markdown",
   "metadata": {},
   "source": [
    "There are 236 restaurants in the OSM database. However, **only 129 restaurants (55%) specify the cusine**. The most popular cusine is italian (33), followed by pizza (22). By considering that pizza is a particular italian speciality, **72 restaurants on the 129 (therefore 56%) with specified cuisine serve italian specialities**.\n",
    "\n",
    "However, **only 43 restaurants (18%) have phone number specified**. Therefore, another resource must be employed to check the phone number out and book a table.\n",
    "\n",
    "In addition to the 236 restaurants, there are 36 pubs, 179 bars and 77 cafes in the city, as shown by the the following query: "
   ]
  },
  {
   "cell_type": "code",
   "execution_count": 11,
   "metadata": {},
   "outputs": [
    {
     "name": "stdout",
     "output_type": "stream",
     "text": [
      "Number of pubs in Mestre Venezia:\n",
      "36\n",
      "Number of bars in Mestre Venezia:\n",
      "179\n",
      "Number of cafes in Mestre Venezia:\n",
      "77\n"
     ]
    }
   ],
   "source": [
    "print('Number of pubs in Mestre Venezia:')\n",
    "QUERY = \"SELECT COUNT(*) FROM Nodes_tags WHERE value LIKE '%pub%';\"\n",
    "query_db(QUERY,cursor)\n",
    "\n",
    "print('Number of bars in Mestre Venezia:')\n",
    "QUERY = \"SELECT COUNT(*) FROM Nodes_tags WHERE value LIKE '%bar%';\"\n",
    "query_db(QUERY,cursor)\n",
    "\n",
    "print('Number of cafes in Mestre Venezia:')\n",
    "QUERY = \"SELECT COUNT(*) FROM Nodes_tags WHERE value LIKE '%cafe%';\"\n",
    "query_db(QUERY,cursor)"
   ]
  },
  {
   "cell_type": "markdown",
   "metadata": {},
   "source": [
    "Check **public transportation stops**."
   ]
  },
  {
   "cell_type": "code",
   "execution_count": 12,
   "metadata": {},
   "outputs": [
    {
     "name": "stdout",
     "output_type": "stream",
     "text": [
      "Number of stops for public transportation in Mestre Venezia:\n",
      "bus_stop: 499\n",
      "tram_stop: 70\n",
      "bus stop only, private lane: 1\n",
      "bus stop to PLUS Camping Jolly: 1\n"
     ]
    }
   ],
   "source": [
    "print('Number of stops for public transportation in Mestre Venezia:')\n",
    "QUERY = \"SELECT value,COUNT(*) AS tot FROM Nodes_tags WHERE value LIKE '%bus_stop%' OR value LIKE '%tram_stop%' GROUP BY value ORDER BY tot DESC ;\"\n",
    "query_db(QUERY,cursor)"
   ]
  },
  {
   "cell_type": "markdown",
   "metadata": {},
   "source": [
    "The city of Mestre has about **571 stops for public transportation**. Among them, **87% of the stops are for busses**. In fact, the tram was built in 2015 and it consists of only two lines. On the contrary, bus public transportation has about 50 lines, which results in much more stops than tram. A typical bus and tram stops in Mestre downtown are showed in following picture taken from local citynews website (www.veneziatoday.it).\n",
    "\n",
    "![alt text](http://2.citynews-veneziatoday.stgy.ovh/~media/original-hi/36526749365012/piazzale-cialdini-mestre-autobus-tram-2.jpg)\n",
    "\n",
    "\n",
    "\n",
    "Check **number of hotels**:"
   ]
  },
  {
   "cell_type": "code",
   "execution_count": 13,
   "metadata": {},
   "outputs": [
    {
     "name": "stdout",
     "output_type": "stream",
     "text": [
      "Number of Hotels in Mestre Venezia:\n",
      "291\n"
     ]
    }
   ],
   "source": [
    "print('Number of Hotels in Mestre Venezia:')\n",
    "QUERY = \"SELECT COUNT(*) FROM Nodes_tags WHERE value LIKE '%hotel%';\"\n",
    "query_db(QUERY,cursor)"
   ]
  },
  {
   "cell_type": "markdown",
   "metadata": {},
   "source": [
    "Check **number of supermarkets** in the city:"
   ]
  },
  {
   "cell_type": "code",
   "execution_count": 14,
   "metadata": {},
   "outputs": [
    {
     "name": "stdout",
     "output_type": "stream",
     "text": [
      "Number of supermarket in Mestre Venezia:\n",
      "46\n",
      "\n",
      "Most numerous supermarkets:\n",
      "Prix: 5\n",
      "Conad City: 4\n",
      "Coop: 4\n",
      "Cadoro: 3\n",
      "Lidl: 3\n"
     ]
    }
   ],
   "source": [
    "print('Number of supermarket in Mestre Venezia:')\n",
    "QUERY = \"SELECT COUNT(*) FROM Nodes_tags WHERE value LIKE '%supermarket%';\"\n",
    "query_db(QUERY,cursor)\n",
    "\n",
    "print('\\nMost numerous supermarkets:')\n",
    "QUERY = \"SELECT Nodes_tags.value, COUNT(*) AS tot FROM Nodes_tags WHERE Nodes_tags.id IN (SELECT DISTINCT(id) FROM Nodes_tags WHERE value LIKE '%supermarket%') AND Nodes_tags.key LIKE '%name%' GROUP BY Nodes_tags.value ORDER BY tot DESC LIMIT 5;\"\n",
    "query_db(QUERY,cursor)"
   ]
  },
  {
   "cell_type": "markdown",
   "metadata": {},
   "source": [
    "Check **number of doctors** in the OSM database. Interestingly, the OSM database for the city of Mestre Venezia has 1 doctor. This field should be improved in the future."
   ]
  },
  {
   "cell_type": "code",
   "execution_count": 15,
   "metadata": {},
   "outputs": [
    {
     "name": "stdout",
     "output_type": "stream",
     "text": [
      "Number of doctors in Mestre Venezia:\n",
      "1\n"
     ]
    }
   ],
   "source": [
    "print('Number of doctors in Mestre Venezia:')\n",
    "QUERY = \"SELECT COUNT(*) FROM Nodes_tags WHERE value LIKE '%doctor%';\"\n",
    "query_db(QUERY,cursor)"
   ]
  },
  {
   "cell_type": "markdown",
   "metadata": {},
   "source": [
    "Check **pedestrian crossing and traffic signals**."
   ]
  },
  {
   "cell_type": "code",
   "execution_count": 16,
   "metadata": {},
   "outputs": [
    {
     "name": "stdout",
     "output_type": "stream",
     "text": [
      "Number of traffic signals in Mestre Venezia:\n",
      "124\n",
      "\n",
      "Number of street crossing area in Mestre Venezia: \n",
      "1355\n"
     ]
    }
   ],
   "source": [
    "print('Number of traffic signals in Mestre Venezia:')\n",
    "QUERY = \"SELECT COUNT(*) FROM Nodes_tags WHERE value LIKE '%traffic_signal%';\"\n",
    "query_db(QUERY,cursor)\n",
    "\n",
    "print('\\nNumber of street crossing area in Mestre Venezia: ')\n",
    "QUERY = \"SELECT COUNT(*) FROM Nodes_tags WHERE value LIKE '%crossing%';\"\n",
    "query_db(QUERY,cursor)"
   ]
  },
  {
   "cell_type": "markdown",
   "metadata": {},
   "source": [
    "## Suggestion for improvement\n",
    "\n",
    "This analysis showed that the OSM file is incomplete and several errors are present. The main issue found was the presence of nodes that are not part of the city of Mestre. For example, many nodes and ways that are located in others nearby small cities are included in Mestre's OSM. Other errors like typos can be be corrected by auditing the XML file as we did in this project. \n",
    "\n",
    "However, the dataset should be improved consistently in order to provide useful and complete information. The poorest part was the information about doctors, which is an important information for locals and tourists. For this reason, it would be beneficial to use third party sites like ulss12.it, which is the official healthcare website of the area, to include these info. Since Mestre is part of the City of Venice, more information about public transportations to and from Venice should be provided. Also in this case, third party website like actv.it (official public transportaton website) should be used to create new tags for the bus stop nodes. Info about restaurants and museums can be retrieved from Google Maps, whereas info about hotels can be obtained from booking.com. However, a lot of coding has to be done in order to automatically access these info from website's API. To ensure the correct format of data, the codes developed in this project can be employed."
   ]
  }
 ],
 "metadata": {
  "kernelspec": {
   "display_name": "Python 3",
   "language": "python",
   "name": "python3"
  },
  "language_info": {
   "codemirror_mode": {
    "name": "ipython",
    "version": 3
   },
   "file_extension": ".py",
   "mimetype": "text/x-python",
   "name": "python",
   "nbconvert_exporter": "python",
   "pygments_lexer": "ipython3",
   "version": "3.6.1"
  }
 },
 "nbformat": 4,
 "nbformat_minor": 2
}
