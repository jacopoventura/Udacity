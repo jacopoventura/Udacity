{
 "cells": [
  {
   "cell_type": "markdown",
   "metadata": {},
   "source": [
    "# Query the corrected OpenStreetMap database\n",
    "\n",
    "Previously, the OpenStreetMap (OSM) dataset (XML file) relative to the city of Mestre Venezia was parsed in order to check the quality of the data. After this analysis, the dataset was saved as csv files after correcting for the data errors. The following .csv files were created:\n",
    "- nodes.csv\n",
    "- nodes_tags.csv\n",
    "- ways.csv\n",
    "- ways_nodes.csv\n",
    "- ways_tags.csv\n",
    "\n",
    "Subsequently, a new relational database called mestre.db was created with SQLite3 by importing these .csv file.\n",
    "\n",
    "In this part of the project, the mestre.db database is queried to find some stats and information about the OSM dataset."
   ]
  },
  {
   "cell_type": "code",
   "execution_count": 1,
   "metadata": {
    "collapsed": true
   },
   "outputs": [],
   "source": [
    "# import SQLIte3\n",
    "import sqlite3\n",
    "\n",
    "# connect to the database and create cursor for querying\n",
    "conn = sqlite3.connect('mestre.db')\n",
    "cursor=conn.cursor()\n",
    "\n",
    "# function for query\n",
    "def query_db(QUERY):\n",
    "    cursor.execute(QUERY)\n",
    "    results = cursor.fetchall()\n",
    "    for r in results:\n",
    "        print(r)"
   ]
  },
  {
   "cell_type": "markdown",
   "metadata": {
    "collapsed": true
   },
   "source": [
    "Check number of nodes and ways in the map:"
   ]
  },
  {
   "cell_type": "code",
   "execution_count": 2,
   "metadata": {},
   "outputs": [
    {
     "name": "stdout",
     "output_type": "stream",
     "text": [
      "Nodes: \n",
      "(528507,)\n",
      "Ways: \n",
      "(81700,)\n"
     ]
    }
   ],
   "source": [
    "print('Nodes: ')\n",
    "QUERY = \"SELECT COUNT(*) FROM Nodes\"\n",
    "query_db(QUERY)\n",
    "\n",
    "print('Ways: ')\n",
    "QUERY = \"SELECT COUNT(*) FROM Ways\"\n",
    "query_db(QUERY)"
   ]
  },
  {
   "cell_type": "markdown",
   "metadata": {},
   "source": [
    "Check number of users that contributed to the OSM database."
   ]
  },
  {
   "cell_type": "code",
   "execution_count": 3,
   "metadata": {},
   "outputs": [
    {
     "name": "stdout",
     "output_type": "stream",
     "text": [
      "(\"b'DarkSwan_Import'\", 153769)\n",
      "(\"b'bellazambo'\", 113694)\n",
      "(\"b'Arlas'\", 82596)\n",
      "(\"b'Tizianos'\", 50766)\n",
      "(\"b'GatoSelvadego'\", 39444)\n"
     ]
    }
   ],
   "source": [
    "QUERY = \"SELECT way_node.user, COUNT(*) as total FROM (SELECT user FROM Ways UNION ALL SELECT user FROM Nodes) way_node GROUP BY way_node.user ORDER BY total DESC LIMIT 5;\"\n",
    "query_db(QUERY)"
   ]
  },
  {
   "cell_type": "markdown",
   "metadata": {},
   "source": [
    "Analyze restaurants in the OSM database."
   ]
  },
  {
   "cell_type": "code",
   "execution_count": 4,
   "metadata": {},
   "outputs": [
    {
     "name": "stdout",
     "output_type": "stream",
     "text": [
      "Number of restaurants in Mestre Venezia:\n",
      "(236,)\n",
      "\n",
      "Most popular cuisines:\n",
      "(\"b'italian'\", 33)\n",
      "(\"b'pizza'\", 22)\n",
      "(\"b'regional'\", 12)\n",
      "(\"b'italian;pizza'\", 5)\n",
      "(\"b'chinese'\", 3)\n",
      "\n",
      "Number of restaurants having phone number specified:\n",
      "(43,)\n",
      "\n",
      "Total number of cusine specification:\n",
      "(129,)\n"
     ]
    }
   ],
   "source": [
    "print('Number of restaurants in Mestre Venezia:')\n",
    "QUERY = \"SELECT COUNT(*) FROM Nodes_tags WHERE value LIKE '%restaurant%';\"\n",
    "query_db(QUERY)\n",
    "\n",
    "print('\\nMost popular cuisines:')\n",
    "QUERY = \"SELECT Nodes_tags.value, COUNT(*) AS tot FROM Nodes_tags WHERE Nodes_tags.id IN (SELECT DISTINCT(id) FROM Nodes_tags WHERE value LIKE '%restaurant%') AND Nodes_tags.key LIKE '%cuisine%' GROUP BY Nodes_tags.value ORDER BY tot DESC LIMIT 5;\"\n",
    "query_db(QUERY)\n",
    "\n",
    "print('\\nNumber of restaurants having phone number specified:')\n",
    "QUERY = \"SELECT COUNT(*) AS tot FROM Nodes_tags WHERE Nodes_tags.id IN (SELECT DISTINCT(id) FROM Nodes_tags WHERE value LIKE '%restaurant%') AND Nodes_tags.key LIKE '%phone%';\"\n",
    "query_db(QUERY)\n",
    "\n",
    "\n",
    "print('\\nTotal number of cusine specification:')\n",
    "QUERY = \"SELECT COUNT(*) FROM Nodes_tags WHERE key LIKE '%cuisine%';\"\n",
    "query_db(QUERY)"
   ]
  },
  {
   "cell_type": "markdown",
   "metadata": {},
   "source": [
    "Interestingly, there are 236 restaurants in the OSM database. However, only 129 restaurants (55%) specify the cusine. The most popular cusine is italian (33), followed by pizza (22). By considering that pizza is a particular italian speciality, 72 restaurants on the 129 (therefore 56%) with specified cuisine serve italian specialities.\n",
    "\n",
    "However, only 43 restaurants have phone number specified. Therefore, another resource must be employed to check the phone number out and book a table.\n",
    "\n",
    "In addition to the 236 restaurants, there are 36 pubs, 179 bars and 77 cafes in the city, as shown by the the following query: "
   ]
  },
  {
   "cell_type": "code",
   "execution_count": 5,
   "metadata": {},
   "outputs": [
    {
     "name": "stdout",
     "output_type": "stream",
     "text": [
      "Number of pubs in Mestre Venezia:\n",
      "(36,)\n",
      "Number of bars in Mestre Venezia:\n",
      "(179,)\n",
      "Number of cafes in Mestre Venezia:\n",
      "(77,)\n"
     ]
    }
   ],
   "source": [
    "print('Number of pubs in Mestre Venezia:')\n",
    "QUERY = \"SELECT COUNT(*) FROM Nodes_tags WHERE value LIKE '%pub%';\"\n",
    "query_db(QUERY)\n",
    "\n",
    "print('Number of bars in Mestre Venezia:')\n",
    "QUERY = \"SELECT COUNT(*) FROM Nodes_tags WHERE value LIKE '%bar%';\"\n",
    "query_db(QUERY)\n",
    "\n",
    "print('Number of cafes in Mestre Venezia:')\n",
    "QUERY = \"SELECT COUNT(*) FROM Nodes_tags WHERE value LIKE '%cafe%';\"\n",
    "query_db(QUERY)"
   ]
  },
  {
   "cell_type": "markdown",
   "metadata": {},
   "source": [
    "Check public transportation stops."
   ]
  },
  {
   "cell_type": "code",
   "execution_count": 6,
   "metadata": {},
   "outputs": [
    {
     "name": "stdout",
     "output_type": "stream",
     "text": [
      "Number of stops for public transportation in Mestre Venezia:\n",
      "(\"b'bus_stop'\", 499)\n",
      "(\"b'tram_stop'\", 70)\n",
      "(\"b'bus stop only, private lane'\", 1)\n",
      "(\"b'bus stop to PLUS Camping Jolly'\", 1)\n"
     ]
    }
   ],
   "source": [
    "print('Number of stops for public transportation in Mestre Venezia:')\n",
    "QUERY = \"SELECT value,COUNT(*) AS tot FROM Nodes_tags WHERE value LIKE '%bus_stop%' OR value LIKE '%tram_stop%' GROUP BY value ORDER BY tot DESC ;\"\n",
    "query_db(QUERY)\n"
   ]
  },
  {
   "cell_type": "markdown",
   "metadata": {},
   "source": [
    "The city of Mestre has about 571 stops for public transportation. Among them, 87% of the stops are for busses. In fact, the tram was built in 2015 and it consists of only two lines. On the contrary, bus public transportation has about 50 lines, which results in much more stops than tram."
   ]
  },
  {
   "cell_type": "markdown",
   "metadata": {},
   "source": [
    "Check number of hotels."
   ]
  },
  {
   "cell_type": "code",
   "execution_count": 7,
   "metadata": {},
   "outputs": [
    {
     "name": "stdout",
     "output_type": "stream",
     "text": [
      "Number of Hotels in Mestre Venezia:\n",
      "(291,)\n"
     ]
    }
   ],
   "source": [
    "print('Number of Hotels in Mestre Venezia:')\n",
    "QUERY = \"SELECT COUNT(*) FROM Nodes_tags WHERE value LIKE '%hotel%';\"\n",
    "query_db(QUERY)"
   ]
  },
  {
   "cell_type": "markdown",
   "metadata": {},
   "source": [
    "Check number of supermarkets in the city."
   ]
  },
  {
   "cell_type": "code",
   "execution_count": 8,
   "metadata": {},
   "outputs": [
    {
     "name": "stdout",
     "output_type": "stream",
     "text": [
      "Number of supermarket in Mestre Venezia:\n",
      "(46,)\n",
      "\n",
      "Most numerous supermarkets:\n",
      "(\"b'Prix'\", 5)\n",
      "(\"b'Conad City'\", 4)\n",
      "(\"b'Coop'\", 4)\n",
      "(\"b'Cadoro'\", 3)\n",
      "(\"b'Lidl'\", 3)\n"
     ]
    }
   ],
   "source": [
    "print('Number of supermarket in Mestre Venezia:')\n",
    "QUERY = \"SELECT COUNT(*) FROM Nodes_tags WHERE value LIKE '%supermarket%';\"\n",
    "query_db(QUERY)\n",
    "\n",
    "print('\\nMost numerous supermarkets:')\n",
    "QUERY = \"SELECT Nodes_tags.value, COUNT(*) AS tot FROM Nodes_tags WHERE Nodes_tags.id IN (SELECT DISTINCT(id) FROM Nodes_tags WHERE value LIKE '%supermarket%') AND Nodes_tags.key LIKE '%name%' GROUP BY Nodes_tags.value ORDER BY tot DESC LIMIT 5;\"\n",
    "query_db(QUERY)"
   ]
  },
  {
   "cell_type": "markdown",
   "metadata": {},
   "source": [
    "Check number of doctors in the city. Interestingly, the OSM database for the city of Mestre Venezia has 1 doctor. This field should be improved in the future."
   ]
  },
  {
   "cell_type": "code",
   "execution_count": 9,
   "metadata": {},
   "outputs": [
    {
     "name": "stdout",
     "output_type": "stream",
     "text": [
      "Number of doctors in Mestre Venezia:\n",
      "(1,)\n"
     ]
    }
   ],
   "source": [
    "print('Number of doctors in Mestre Venezia:')\n",
    "QUERY = \"SELECT COUNT(*) FROM Nodes_tags WHERE value LIKE '%doctor%';\"\n",
    "query_db(QUERY)\n"
   ]
  },
  {
   "cell_type": "markdown",
   "metadata": {},
   "source": [
    "Check pedestrian crossing and traffic signals."
   ]
  },
  {
   "cell_type": "code",
   "execution_count": 10,
   "metadata": {},
   "outputs": [
    {
     "name": "stdout",
     "output_type": "stream",
     "text": [
      "Number of traffic signals in Mestre Venezia:\n",
      "(124,)\n",
      "\n",
      "Number of street crossing area in Mestre Venezia: \n",
      "(1355,)\n"
     ]
    }
   ],
   "source": [
    "print('Number of traffic signals in Mestre Venezia:')\n",
    "QUERY = \"SELECT COUNT(*) FROM Nodes_tags WHERE value LIKE '%traffic_signal%';\"\n",
    "query_db(QUERY)\n",
    "\n",
    "print('\\nNumber of street crossing area in Mestre Venezia: ')\n",
    "QUERY = \"SELECT COUNT(*) FROM Nodes_tags WHERE value LIKE '%crossing%';\"\n",
    "query_db(QUERY)"
   ]
  },
  {
   "cell_type": "markdown",
   "metadata": {},
   "source": [
    "## Conclusions\n",
    "\n",
    "In this project, the Mestre Venezia OpenStreetMap dataset (XML file, 113 MB) was analyzed, cleaned and saved into a structured database. A lot of errors (mainly typos) were found. As regards to the phone number field, most of the correctons were made in order to have numbers in the same format.\n",
    "\n",
    "The databased was analyzed by querying few fields. We found that the info about public transportation and restaurants is quite complete, since most of these objects are indicated as nodes in the map. As regard to the restaurant, information are incomplete, since only few restaurants have info on cuisine and phone number. Therefore, the OSM datasef of the city of Mestre Venezia should be improved."
   ]
  },
  {
   "cell_type": "code",
   "execution_count": null,
   "metadata": {
    "collapsed": true
   },
   "outputs": [],
   "source": []
  }
 ],
 "metadata": {
  "kernelspec": {
   "display_name": "Python 3",
   "language": "python",
   "name": "python3"
  },
  "language_info": {
   "codemirror_mode": {
    "name": "ipython",
    "version": 3
   },
   "file_extension": ".py",
   "mimetype": "text/x-python",
   "name": "python",
   "nbconvert_exporter": "python",
   "pygments_lexer": "ipython3",
   "version": "3.6.1"
  }
 },
 "nbformat": 4,
 "nbformat_minor": 2
}
