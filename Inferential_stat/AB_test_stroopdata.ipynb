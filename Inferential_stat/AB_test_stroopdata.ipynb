{
 "cells": [
  {
   "cell_type": "markdown",
   "metadata": {},
   "source": [
    "# Project: investigating the Stroop effect\n",
    "\n",
    "The Stroop test is a well-known psychological test that demonstrates the effect of the inconscious automatic process in the brain when a person performs a task. To measure this effect, participants are asked to read a list of color words. Each word is printed with a specific color (font color). Two conditions are proposed:\n",
    "\n",
    "- **congruent**: words are printed with the same font color as the word itself. For example, the word \"green\" is printed in green, the word \"blue\" is printed in blue, etc.\n",
    "\n",
    "- **incongruent**: words are printed with a different color from the word itself. For example, the word \"green\" is printed in blue, the word \"blue\" is printed in green, etc. \n",
    "\n",
    "Un the Stroop test, participants are asked to read a list of color words and name the font color. They first name the congruent list, the the incongruent list. The effect of the automatic inconscious process of visual information is estimated by registering the time required by a person to name all the font colors in the list. This time is called **reaction time**.\n",
    "\n",
    "\n",
    "### Test variables\n",
    "\n",
    "The **independent variable** in this experiment is whether the color word and font color are the same or different. The levels of the independent variable are congruent (font color same as color names) and incongruent (font color and color word are different). \n",
    "\n",
    "The **dependent variable** is the reaction time required by a person to name all the font colors in the list. \n",
    "\n",
    "\n",
    "### Statistical test\n",
    "\n",
    "The dataset consists of two samples (N=24) obtained from the same population (person selected for the test). The two samples are dependent, since the same person takes the test twice: read and name the list of congruent and incongruent words. Moreover, we cannot reject the hypothesis that the sample comes from a population which has a normal distribution (see Shapiro-Wilk test). Therefore, we will perform a **t-test on two dependet samples**. Usually, t-test is performed when the sample size is smaller than 30, whereas z-test is performed when the sample size is larger (or equal) than 30 [1]. The reason of performing a dependent t-test is that each participant performed both conditions not all samples are independent. Therefore the two samples are obtained from the same population of participants. \n",
    "\n",
    "The goal of the t-test is to estimate a parameter of the population (the mean in this case) from limited sample data. Consequently, null and alternative hypotheses concern with the population. \n",
    "\n",
    "We expect that a color word printed with an incongruent font color introduces difficulties in saying the font color. For this reason, a person requires more time to pronounce the color of an incongruent printed color than a congruent one. The test will be **directional one tail (negative)** with the following hypotheses:\n",
    "\n",
    "**Null hypothesis (H0)**\n",
    "\n",
    "Participants will not take any longer to name the font color of a list where the color name and font contradict one another than when they match. Therefore, the mean reaction time of the population that reads incongruent font color-color word lists will be smaller or equal (thus not larger) than the mean reaction time of the population that reads congruent font color-color word lists. The null hypothesis can be mathematically stated as:\n",
    "\n",
    "$\\text{H}_0 : \\mu_{\\text{congruent}} \\ge \\mu_{\\text{incongruent}}$\n",
    "\n",
    "\n",
    "**Alternative Hypothesis (H1)**\n",
    "\n",
    "Participants will take longer to name the font color of a list where the color name and font color contradict one another than when they match. Therefore, the mean reaction time of the population that reads incongruent font color-color word lists will be greater than the mean reaction time of the population that reads congruent font color-color word lists. The alternative hypothesis can be mathematically stated as:\n",
    "\n",
    "$\\text{H}_1 : \\mu_{\\text{congruent}} < \\mu_{\\text{incongruent}}$\n",
    "\n",
    "\n",
    "### Descriptive statistics\n",
    "\n",
    "Let's first print the whole dataset, which consists of two samples of size N=24 and contains the reaction time of a person to pronounce the color words of the list."
   ]
  },
  {
   "cell_type": "code",
   "execution_count": 1,
   "metadata": {},
   "outputs": [
    {
     "data": {
      "text/html": [
       "<div>\n",
       "<style>\n",
       "    .dataframe thead tr:only-child th {\n",
       "        text-align: right;\n",
       "    }\n",
       "\n",
       "    .dataframe thead th {\n",
       "        text-align: left;\n",
       "    }\n",
       "\n",
       "    .dataframe tbody tr th {\n",
       "        vertical-align: top;\n",
       "    }\n",
       "</style>\n",
       "<table border=\"1\" class=\"dataframe\">\n",
       "  <thead>\n",
       "    <tr style=\"text-align: right;\">\n",
       "      <th></th>\n",
       "      <th>Congruent</th>\n",
       "      <th>Incongruent</th>\n",
       "    </tr>\n",
       "  </thead>\n",
       "  <tbody>\n",
       "    <tr>\n",
       "      <th>0</th>\n",
       "      <td>12.079</td>\n",
       "      <td>19.278</td>\n",
       "    </tr>\n",
       "    <tr>\n",
       "      <th>1</th>\n",
       "      <td>16.791</td>\n",
       "      <td>18.741</td>\n",
       "    </tr>\n",
       "    <tr>\n",
       "      <th>2</th>\n",
       "      <td>9.564</td>\n",
       "      <td>21.214</td>\n",
       "    </tr>\n",
       "    <tr>\n",
       "      <th>3</th>\n",
       "      <td>8.630</td>\n",
       "      <td>15.687</td>\n",
       "    </tr>\n",
       "    <tr>\n",
       "      <th>4</th>\n",
       "      <td>14.669</td>\n",
       "      <td>22.803</td>\n",
       "    </tr>\n",
       "    <tr>\n",
       "      <th>5</th>\n",
       "      <td>12.238</td>\n",
       "      <td>20.878</td>\n",
       "    </tr>\n",
       "    <tr>\n",
       "      <th>6</th>\n",
       "      <td>14.692</td>\n",
       "      <td>24.572</td>\n",
       "    </tr>\n",
       "    <tr>\n",
       "      <th>7</th>\n",
       "      <td>8.987</td>\n",
       "      <td>17.394</td>\n",
       "    </tr>\n",
       "    <tr>\n",
       "      <th>8</th>\n",
       "      <td>9.401</td>\n",
       "      <td>20.762</td>\n",
       "    </tr>\n",
       "    <tr>\n",
       "      <th>9</th>\n",
       "      <td>14.480</td>\n",
       "      <td>26.282</td>\n",
       "    </tr>\n",
       "    <tr>\n",
       "      <th>10</th>\n",
       "      <td>22.328</td>\n",
       "      <td>24.524</td>\n",
       "    </tr>\n",
       "    <tr>\n",
       "      <th>11</th>\n",
       "      <td>15.298</td>\n",
       "      <td>18.644</td>\n",
       "    </tr>\n",
       "    <tr>\n",
       "      <th>12</th>\n",
       "      <td>15.073</td>\n",
       "      <td>17.510</td>\n",
       "    </tr>\n",
       "    <tr>\n",
       "      <th>13</th>\n",
       "      <td>16.929</td>\n",
       "      <td>20.330</td>\n",
       "    </tr>\n",
       "    <tr>\n",
       "      <th>14</th>\n",
       "      <td>18.200</td>\n",
       "      <td>35.255</td>\n",
       "    </tr>\n",
       "    <tr>\n",
       "      <th>15</th>\n",
       "      <td>12.130</td>\n",
       "      <td>22.158</td>\n",
       "    </tr>\n",
       "    <tr>\n",
       "      <th>16</th>\n",
       "      <td>18.495</td>\n",
       "      <td>25.139</td>\n",
       "    </tr>\n",
       "    <tr>\n",
       "      <th>17</th>\n",
       "      <td>10.639</td>\n",
       "      <td>20.429</td>\n",
       "    </tr>\n",
       "    <tr>\n",
       "      <th>18</th>\n",
       "      <td>11.344</td>\n",
       "      <td>17.425</td>\n",
       "    </tr>\n",
       "    <tr>\n",
       "      <th>19</th>\n",
       "      <td>12.369</td>\n",
       "      <td>34.288</td>\n",
       "    </tr>\n",
       "    <tr>\n",
       "      <th>20</th>\n",
       "      <td>12.944</td>\n",
       "      <td>23.894</td>\n",
       "    </tr>\n",
       "    <tr>\n",
       "      <th>21</th>\n",
       "      <td>14.233</td>\n",
       "      <td>17.960</td>\n",
       "    </tr>\n",
       "    <tr>\n",
       "      <th>22</th>\n",
       "      <td>19.710</td>\n",
       "      <td>22.058</td>\n",
       "    </tr>\n",
       "    <tr>\n",
       "      <th>23</th>\n",
       "      <td>16.004</td>\n",
       "      <td>21.157</td>\n",
       "    </tr>\n",
       "  </tbody>\n",
       "</table>\n",
       "</div>"
      ],
      "text/plain": [
       "    Congruent  Incongruent\n",
       "0      12.079       19.278\n",
       "1      16.791       18.741\n",
       "2       9.564       21.214\n",
       "3       8.630       15.687\n",
       "4      14.669       22.803\n",
       "5      12.238       20.878\n",
       "6      14.692       24.572\n",
       "7       8.987       17.394\n",
       "8       9.401       20.762\n",
       "9      14.480       26.282\n",
       "10     22.328       24.524\n",
       "11     15.298       18.644\n",
       "12     15.073       17.510\n",
       "13     16.929       20.330\n",
       "14     18.200       35.255\n",
       "15     12.130       22.158\n",
       "16     18.495       25.139\n",
       "17     10.639       20.429\n",
       "18     11.344       17.425\n",
       "19     12.369       34.288\n",
       "20     12.944       23.894\n",
       "21     14.233       17.960\n",
       "22     19.710       22.058\n",
       "23     16.004       21.157"
      ]
     },
     "execution_count": 1,
     "metadata": {},
     "output_type": "execute_result"
    }
   ],
   "source": [
    "# Import data (.csv) using Python's pandas\n",
    "import pandas as pd\n",
    "%matplotlib inline\n",
    "import numpy as np\n",
    "import matplotlib.pyplot as plt\n",
    "import seaborn\n",
    "seaborn.set(style='ticks')\n",
    "\n",
    "stroop_data = pd.read_csv(\"C:/Users/jacopo/Desktop/Deep Learning/Udacity/Projects/statistics/stroopdata.csv\")\n",
    "stroop_data"
   ]
  },
  {
   "cell_type": "code",
   "execution_count": 2,
   "metadata": {},
   "outputs": [
    {
     "name": "stdout",
     "output_type": "stream",
     "text": [
      "Descriptive statistics of data\n",
      "+-------------+---------------+---------+----------+----------+---------------+---------------+\n",
      "|     Data    |      Mean     |  Median |    Q1    |    Q3    |    Variance   |      std      |\n",
      "+-------------+---------------+---------+----------+----------+---------------+---------------+\n",
      "|  Congruent  |   14.051125   | 14.3565 | 11.89525 | 16.20075 | 12.6690290707 | 3.55935795765 |\n",
      "| Incongruent | 22.0159166667 | 21.0175 | 18.71675 | 24.0515  | 23.0117570362 | 4.79705712247 |\n",
      "+-------------+---------------+---------+----------+----------+---------------+---------------+\n"
     ]
    },
    {
     "data": {
      "text/plain": [
       "(array([  5.,  10.,  15.,  20.,  25.,  30.,  35.,  40.]),\n",
       " <a list of 8 Text yticklabel objects>)"
      ]
     },
     "execution_count": 2,
     "metadata": {},
     "output_type": "execute_result"
    },
    {
     "data": {
      "image/png": "[encoded data removed]",
      "text/plain": [
       "<matplotlib.figure.Figure at 0x21af7abf3c8>"
      ]
     },
     "metadata": {},
     "output_type": "display_data"
    }
   ],
   "source": [
    "# Compute the mean\n",
    "Mean = stroop_data.mean()\n",
    "\n",
    "# Compute median values\n",
    "Median = stroop_data.median()\n",
    "\n",
    "# Compute quantile\n",
    "Q1 = stroop_data.quantile(.25)\n",
    "Q1_con = Q1['Congruent']\n",
    "Q1_inc = Q1['Incongruent']\n",
    "Q3 = stroop_data.quantile(.75)\n",
    "Q3_con = Q3['Congruent']\n",
    "Q3_inc = Q3['Incongruent']\n",
    "IQR_con = Q3_con - Q1_con\n",
    "IQR_inc = Q3_inc - Q1_inc\n",
    "\n",
    "# Compute variance\n",
    "Variance = stroop_data.var()\n",
    "\n",
    "# Compute standard deviation s (with Bessel's correction)\n",
    "std_s = stroop_data.std()  # Pandas applies directly Bessel's correction in std\n",
    "\n",
    "# Print table of descriptive statistics using PrettyTable\n",
    "from prettytable import PrettyTable\n",
    "t = PrettyTable(['Data', 'Mean','Median','Q1','Q3','Variance','std'])\n",
    "t.add_row(['Congruent', Mean[0], Median[0], Q1_con, Q3_con, Variance[0],std_s[0]])\n",
    "t.add_row(['Incongruent', Mean[1], Median[1], Q1_inc, Q3_inc, Variance[1],std_s[1]])\n",
    "print('Descriptive statistics of data')\n",
    "print(t)\n",
    "\n",
    "# Box plot\n",
    "data = [stroop_data['Congruent'],stroop_data['Incongruent']]\n",
    "fig = plt.figure()\n",
    "plt.boxplot(data, 0, 'gD')\n",
    "fig.suptitle('Box plot of data', fontsize=18, fontweight='bold')\n",
    "plt.ylabel('Reaction time [s]', fontsize = 18)\n",
    "plt.xticks((1, 2), ('Congruent', 'Incongruent'), color='k', size=14)\n",
    "plt.yticks(color='k', size=14)\n"
   ]
  },
  {
   "cell_type": "markdown",
   "metadata": {},
   "source": [
    "The table summarizes the descriptive statistics for each sample. The mean reaction time of congruent data is lower than the mean of incongruent data. The mean and median values of the congruent data are very close to each other, whereas the mean of the incongruent data is higher that the median (slightly positive skewed distribution). The standard deviation of the incongruent sample is larger than the one of the congruent data. Therefore, reaction times of incongruent words are more spread out.\n",
    "\n",
    "The descriptive statistics of the two samples is summarized in the box plot. As showed also in the table, the reaction time of the congruent sample is lower than the mean reaction time of incongruent data (see green line inside the IQR boxes). Interestingly, the incongruent sample presents two outliers (green dots in the plot). We can identify these points using the outlier definition **outlier > Q3 + 1.5 * IQR**. The two outliers of the incongruent sample are **35.355 s** and **34.288 s**."
   ]
  },
  {
   "cell_type": "code",
   "execution_count": 3,
   "metadata": {},
   "outputs": [
    {
     "data": {
      "text/plain": [
       "14    35.255\n",
       "19    34.288\n",
       "Name: Incongruent, dtype: float64"
      ]
     },
     "execution_count": 3,
     "metadata": {},
     "output_type": "execute_result"
    }
   ],
   "source": [
    "t = stroop_data['Incongruent']>(Q3_inc + 1.5 * IQR_inc)\n",
    "idx = [i for i, x in enumerate(t) if x]\n",
    "stroop_data['Incongruent'][idx]"
   ]
  },
  {
   "cell_type": "code",
   "execution_count": 4,
   "metadata": {},
   "outputs": [
    {
     "data": {
      "text/plain": [
       "<matplotlib.text.Text at 0x21af8f86ac8>"
      ]
     },
     "execution_count": 4,
     "metadata": {},
     "output_type": "execute_result"
    },
    {
     "data": {
      "image/png": "[encoded data removed]",
      "text/plain": [
       "<matplotlib.figure.Figure at 0x21af7c44a58>"
      ]
     },
     "metadata": {},
     "output_type": "display_data"
    }
   ],
   "source": [
    "# Plot Histogram\n",
    "a = [stroop_data['Congruent'], stroop_data['Incongruent']]\n",
    "categories = ['Congruent','Incongruent']\n",
    "time_min = stroop_data.min().min()\n",
    "time_max = stroop_data.max().max()+2\n",
    "bin_size = 2   # seconds\n",
    "\n",
    "bin_values = np.arange(start=time_min, stop=time_max, step=bin_size)\n",
    "ax = stroop_data.plot(kind='hist', bins=bin_values, figsize=[12,6], alpha=.7, legend=True) \n",
    "ax.set_ylabel(\"Frequency\",fontsize = 14)\n",
    "ax.set_xlabel(\"Reaction time in seconds [bin size = 2 s]\",fontsize = 14)\n",
    "ax.set_title(\"Histogram of the reaction time\",fontsize = 16)"
   ]
  },
  {
   "cell_type": "markdown",
   "metadata": {},
   "source": [
    "The histogram of reaction time is obtained with a bin size if 2 seconds. The distributions do not overlap due to the difference in mean and median values. The two outliers of the incongruent sample are clearly visible on the right of the histogram.\n",
    "\n",
    "We will now check if samples have normal distribution by running the Shapiro Wilk test with alpha = .001"
   ]
  },
  {
   "cell_type": "code",
   "execution_count": 5,
   "metadata": {},
   "outputs": [
    {
     "name": "stdout",
     "output_type": "stream",
     "text": [
      "Shapiro-Wilk test for normality of congruent data (W, p-value): \n",
      "(0.970922589302063, 0.689803421497345)\n",
      "Since the p-value is larger than alpha = .001, we cannot reject the hypothesis that the sample comes from a population which has a normal distribution.\n",
      "\n",
      "Shapiro-Wilk test for normality of incongruent data (W, p-value): \n",
      "(0.85394686460495, 0.0025900385808199644)\n",
      "Since the p-value is larger than alpha = .001, we cannot reject the hypothesis that the sample comes from a population which has a normal distribution.\n",
      "\n"
     ]
    }
   ],
   "source": [
    "# Check normality of distribution\n",
    "from scipy import stats\n",
    "\n",
    "print(\"Shapiro-Wilk test for normality of congruent data (W, p-value): \")\n",
    "print(stats.shapiro(stroop_data['Congruent']))\n",
    "print(\"Since the p-value is larger than alpha = .001, we cannot reject the hypothesis that the sample comes from a population which has a normal distribution.\")\n",
    "print(\"\")\n",
    "print(\"Shapiro-Wilk test for normality of incongruent data (W, p-value): \")\n",
    "print(stats.shapiro(stroop_data['Incongruent']))\n",
    "print(\"Since the p-value is larger than alpha = .001, we cannot reject the hypothesis that the sample comes from a population which has a normal distribution.\")\n",
    "print(\"\")"
   ]
  },
  {
   "cell_type": "markdown",
   "metadata": {},
   "source": [
    "### Directional t-test\n",
    "\n",
    "We now perform the dependet directional (negative) t-test with the following hypotheses on the population:\n",
    "\n",
    "$\\text{H}_0 : \\mu_{\\text{congruent}} \\ge \\mu_{\\text{incongruent}}$\n",
    "\n",
    "$\\text{H}_1 : \\mu_{\\text{congruent}} < \\mu_{\\text{incongruent}}$\n",
    " \n",
    "The size of each sample is N=24 and therefore the Student's t distribution has **23 degrees of freedom**. We select **alpha = .05**, whose corresponding critical t value is **t = - 1.714**. "
   ]
  },
  {
   "cell_type": "code",
   "execution_count": 6,
   "metadata": {},
   "outputs": [
    {
     "name": "stdout",
     "output_type": "stream",
     "text": [
      "Mean of the difference: -7.964792\n",
      "Standard error: 4.864827\n",
      "t-value: -8.020707\n",
      "Cohens d: -1.637220\n",
      "Coeff of determination r^2: 0.736636\n"
     ]
    }
   ],
   "source": [
    "n = 24\n",
    "dof = n - 1\n",
    "\n",
    "# compute difference of reaction times\n",
    "diff = []\n",
    "for i in range(0,n):\n",
    "    d = stroop_data['Congruent'][i] - stroop_data['Incongruent'][i]\n",
    "    diff.append(d)\n",
    "   \n",
    "diff_mean = np.mean(diff)\n",
    "print('Mean of the difference: %f' %diff_mean)\n",
    "\n",
    "diff_2 = []\n",
    "for i in range(0,n):\n",
    "    d = diff[i] - diff_mean\n",
    "    diff_2.append((d*d))\n",
    "\n",
    "    \n",
    "# compute Standard Error se\n",
    "se = np.sqrt(np.sum(diff_2) / dof)\n",
    "print('Standard error: %f' %se)\n",
    "\n",
    "# Compute cohen's d\n",
    "cohen_d = diff_mean / se\n",
    "\n",
    "# Compute t-value \n",
    "t = (np.mean(stroop_data['Congruent']) - np.mean(stroop_data['Incongruent'])) /( se/ np.sqrt(n))\n",
    "\n",
    "# Compute coefficient of determination r2\n",
    "r2 = t*t / (t*t + dof)\n",
    "\n",
    "print('t-value: %f' %t)\n",
    "print('Cohens d: %f' %cohen_d)\n",
    "print('Coeff of determination r^2: %f' %r2)"
   ]
  },
  {
   "cell_type": "markdown",
   "metadata": {},
   "source": [
    "**Test result**: the t value obtained from the data is **t = -8.021 < -1.714**, larger than the critical t. The p-value computed from [socscistatistics.com](http://www.socscistatistics.com/Default.aspx) is **p < .05**. For these reasons, **we reject the null hypothesis that participants will not take any longer to name the font color of an incongruent list than a congruent one**."
   ]
  },
  {
   "cell_type": "code",
   "execution_count": 7,
   "metadata": {},
   "outputs": [
    {
     "name": "stdout",
     "output_type": "stream",
     "text": [
      "The confidence interval at 95% of the mean reaction time for congruent ink-color word is: \n",
      "[12.547891186495569, 15.554358813504439]\n",
      "\n",
      "The confidence interval at 95% of the mean reaction time for incongruent ink-color word is: \n",
      "[19.989961829413204, 24.041871503920135]\n"
     ]
    }
   ],
   "source": [
    "# Compute estimated mean with 95% confidence\n",
    "t95 = 2.069\n",
    "print('The confidence interval at 95% of the mean reaction time for congruent font color-color word is: ')\n",
    "print([Mean[0]-t95*std_s[0]/np.sqrt(n), Mean[0]+t95*std_s[0]/np.sqrt(n)])\n",
    "print(\"\")\n",
    "\n",
    "print('The confidence interval at 95% of the mean reaction time for incongruent font color-color word is: ')\n",
    "print([Mean[1]-t95*std_s[1]/np.sqrt(n), Mean[1]+t95*std_s[1]/np.sqrt(n)])"
   ]
  },
  {
   "cell_type": "markdown",
   "metadata": {},
   "source": [
    "We can expect that the mean reaction time of the population that reads incongruent font color-color word lists lies in 95% CI = (19.99, 24.04) s."
   ]
  },
  {
   "cell_type": "code",
   "execution_count": null,
   "metadata": {
    "collapsed": true
   },
   "outputs": [],
   "source": []
  }
 ],
 "metadata": {
  "kernelspec": {
   "display_name": "Python 3",
   "language": "python",
   "name": "python3"
  },
  "language_info": {
   "codemirror_mode": {
    "name": "ipython",
    "version": 3
   },
   "file_extension": ".py",
   "mimetype": "text/x-python",
   "name": "python",
   "nbconvert_exporter": "python",
   "pygments_lexer": "ipython3",
   "version": "3.6.1"
  }
 },
 "nbformat": 4,
 "nbformat_minor": 2
}
